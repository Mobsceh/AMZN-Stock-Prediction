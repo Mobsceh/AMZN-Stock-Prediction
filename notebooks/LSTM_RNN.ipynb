{
  "nbformat": 4,
  "nbformat_minor": 0,
  "metadata": {
    "colab": {
      "provenance": [],
      "machine_shape": "hm",
      "gpuType": "V100"
    },
    "kernelspec": {
      "name": "python3",
      "display_name": "Python 3"
    },
    "language_info": {
      "name": "python"
    },
    "accelerator": "GPU"
  },
  "cells": [
    {
      "cell_type": "code",
      "execution_count": null,
      "metadata": {
        "colab": {
          "base_uri": "https://localhost:8080/",
          "height": 73
        },
        "id": "nW111nFqiUop",
        "outputId": "73aac506-a8c4-483a-d18e-70e6fa3b454b"
      },
      "outputs": [
        {
          "output_type": "display_data",
          "data": {
            "text/plain": [
              "<IPython.core.display.HTML object>"
            ],
            "text/html": [
              "\n",
              "     <input type=\"file\" id=\"files-655fac51-67f5-4ea8-95b0-569092b08054\" name=\"files[]\" multiple disabled\n",
              "        style=\"border:none\" />\n",
              "     <output id=\"result-655fac51-67f5-4ea8-95b0-569092b08054\">\n",
              "      Upload widget is only available when the cell has been executed in the\n",
              "      current browser session. Please rerun this cell to enable.\n",
              "      </output>\n",
              "      <script>// Copyright 2017 Google LLC\n",
              "//\n",
              "// Licensed under the Apache License, Version 2.0 (the \"License\");\n",
              "// you may not use this file except in compliance with the License.\n",
              "// You may obtain a copy of the License at\n",
              "//\n",
              "//      http://www.apache.org/licenses/LICENSE-2.0\n",
              "//\n",
              "// Unless required by applicable law or agreed to in writing, software\n",
              "// distributed under the License is distributed on an \"AS IS\" BASIS,\n",
              "// WITHOUT WARRANTIES OR CONDITIONS OF ANY KIND, either express or implied.\n",
              "// See the License for the specific language governing permissions and\n",
              "// limitations under the License.\n",
              "\n",
              "/**\n",
              " * @fileoverview Helpers for google.colab Python module.\n",
              " */\n",
              "(function(scope) {\n",
              "function span(text, styleAttributes = {}) {\n",
              "  const element = document.createElement('span');\n",
              "  element.textContent = text;\n",
              "  for (const key of Object.keys(styleAttributes)) {\n",
              "    element.style[key] = styleAttributes[key];\n",
              "  }\n",
              "  return element;\n",
              "}\n",
              "\n",
              "// Max number of bytes which will be uploaded at a time.\n",
              "const MAX_PAYLOAD_SIZE = 100 * 1024;\n",
              "\n",
              "function _uploadFiles(inputId, outputId) {\n",
              "  const steps = uploadFilesStep(inputId, outputId);\n",
              "  const outputElement = document.getElementById(outputId);\n",
              "  // Cache steps on the outputElement to make it available for the next call\n",
              "  // to uploadFilesContinue from Python.\n",
              "  outputElement.steps = steps;\n",
              "\n",
              "  return _uploadFilesContinue(outputId);\n",
              "}\n",
              "\n",
              "// This is roughly an async generator (not supported in the browser yet),\n",
              "// where there are multiple asynchronous steps and the Python side is going\n",
              "// to poll for completion of each step.\n",
              "// This uses a Promise to block the python side on completion of each step,\n",
              "// then passes the result of the previous step as the input to the next step.\n",
              "function _uploadFilesContinue(outputId) {\n",
              "  const outputElement = document.getElementById(outputId);\n",
              "  const steps = outputElement.steps;\n",
              "\n",
              "  const next = steps.next(outputElement.lastPromiseValue);\n",
              "  return Promise.resolve(next.value.promise).then((value) => {\n",
              "    // Cache the last promise value to make it available to the next\n",
              "    // step of the generator.\n",
              "    outputElement.lastPromiseValue = value;\n",
              "    return next.value.response;\n",
              "  });\n",
              "}\n",
              "\n",
              "/**\n",
              " * Generator function which is called between each async step of the upload\n",
              " * process.\n",
              " * @param {string} inputId Element ID of the input file picker element.\n",
              " * @param {string} outputId Element ID of the output display.\n",
              " * @return {!Iterable<!Object>} Iterable of next steps.\n",
              " */\n",
              "function* uploadFilesStep(inputId, outputId) {\n",
              "  const inputElement = document.getElementById(inputId);\n",
              "  inputElement.disabled = false;\n",
              "\n",
              "  const outputElement = document.getElementById(outputId);\n",
              "  outputElement.innerHTML = '';\n",
              "\n",
              "  const pickedPromise = new Promise((resolve) => {\n",
              "    inputElement.addEventListener('change', (e) => {\n",
              "      resolve(e.target.files);\n",
              "    });\n",
              "  });\n",
              "\n",
              "  const cancel = document.createElement('button');\n",
              "  inputElement.parentElement.appendChild(cancel);\n",
              "  cancel.textContent = 'Cancel upload';\n",
              "  const cancelPromise = new Promise((resolve) => {\n",
              "    cancel.onclick = () => {\n",
              "      resolve(null);\n",
              "    };\n",
              "  });\n",
              "\n",
              "  // Wait for the user to pick the files.\n",
              "  const files = yield {\n",
              "    promise: Promise.race([pickedPromise, cancelPromise]),\n",
              "    response: {\n",
              "      action: 'starting',\n",
              "    }\n",
              "  };\n",
              "\n",
              "  cancel.remove();\n",
              "\n",
              "  // Disable the input element since further picks are not allowed.\n",
              "  inputElement.disabled = true;\n",
              "\n",
              "  if (!files) {\n",
              "    return {\n",
              "      response: {\n",
              "        action: 'complete',\n",
              "      }\n",
              "    };\n",
              "  }\n",
              "\n",
              "  for (const file of files) {\n",
              "    const li = document.createElement('li');\n",
              "    li.append(span(file.name, {fontWeight: 'bold'}));\n",
              "    li.append(span(\n",
              "        `(${file.type || 'n/a'}) - ${file.size} bytes, ` +\n",
              "        `last modified: ${\n",
              "            file.lastModifiedDate ? file.lastModifiedDate.toLocaleDateString() :\n",
              "                                    'n/a'} - `));\n",
              "    const percent = span('0% done');\n",
              "    li.appendChild(percent);\n",
              "\n",
              "    outputElement.appendChild(li);\n",
              "\n",
              "    const fileDataPromise = new Promise((resolve) => {\n",
              "      const reader = new FileReader();\n",
              "      reader.onload = (e) => {\n",
              "        resolve(e.target.result);\n",
              "      };\n",
              "      reader.readAsArrayBuffer(file);\n",
              "    });\n",
              "    // Wait for the data to be ready.\n",
              "    let fileData = yield {\n",
              "      promise: fileDataPromise,\n",
              "      response: {\n",
              "        action: 'continue',\n",
              "      }\n",
              "    };\n",
              "\n",
              "    // Use a chunked sending to avoid message size limits. See b/62115660.\n",
              "    let position = 0;\n",
              "    do {\n",
              "      const length = Math.min(fileData.byteLength - position, MAX_PAYLOAD_SIZE);\n",
              "      const chunk = new Uint8Array(fileData, position, length);\n",
              "      position += length;\n",
              "\n",
              "      const base64 = btoa(String.fromCharCode.apply(null, chunk));\n",
              "      yield {\n",
              "        response: {\n",
              "          action: 'append',\n",
              "          file: file.name,\n",
              "          data: base64,\n",
              "        },\n",
              "      };\n",
              "\n",
              "      let percentDone = fileData.byteLength === 0 ?\n",
              "          100 :\n",
              "          Math.round((position / fileData.byteLength) * 100);\n",
              "      percent.textContent = `${percentDone}% done`;\n",
              "\n",
              "    } while (position < fileData.byteLength);\n",
              "  }\n",
              "\n",
              "  // All done.\n",
              "  yield {\n",
              "    response: {\n",
              "      action: 'complete',\n",
              "    }\n",
              "  };\n",
              "}\n",
              "\n",
              "scope.google = scope.google || {};\n",
              "scope.google.colab = scope.google.colab || {};\n",
              "scope.google.colab._files = {\n",
              "  _uploadFiles,\n",
              "  _uploadFilesContinue,\n",
              "};\n",
              "})(self);\n",
              "</script> "
            ]
          },
          "metadata": {}
        },
        {
          "output_type": "stream",
          "name": "stdout",
          "text": [
            "Saving AMZN_2006-01-01_to_2018-01-01.csv to AMZN_2006-01-01_to_2018-01-01.csv\n"
          ]
        }
      ],
      "source": [
        "from google.colab import files\n",
        "uploaded = files.upload()"
      ]
    },
    {
      "cell_type": "code",
      "source": [
        "gpu_info = !nvidia-smi\n",
        "gpu_info = '\\n'.join(gpu_info)\n",
        "if gpu_info.find('failed') >= 0:\n",
        "  print('Not connected to a GPU')\n",
        "else:\n",
        "  print(gpu_info)"
      ],
      "metadata": {
        "colab": {
          "base_uri": "https://localhost:8080/"
        },
        "id": "qe-V-tl8jaB3",
        "outputId": "0fac7aa6-ee43-4424-ed85-ceaeb6e4888f"
      },
      "execution_count": null,
      "outputs": [
        {
          "output_type": "stream",
          "name": "stdout",
          "text": [
            "Mon Dec  4 18:26:06 2023       \n",
            "+-----------------------------------------------------------------------------+\n",
            "| NVIDIA-SMI 525.105.17   Driver Version: 525.105.17   CUDA Version: 12.0     |\n",
            "|-------------------------------+----------------------+----------------------+\n",
            "| GPU  Name        Persistence-M| Bus-Id        Disp.A | Volatile Uncorr. ECC |\n",
            "| Fan  Temp  Perf  Pwr:Usage/Cap|         Memory-Usage | GPU-Util  Compute M. |\n",
            "|                               |                      |               MIG M. |\n",
            "|===============================+======================+======================|\n",
            "|   0  Tesla V100-SXM2...  Off  | 00000000:00:04.0 Off |                    0 |\n",
            "| N/A   38C    P0    24W / 300W |      0MiB / 16384MiB |      0%      Default |\n",
            "|                               |                      |                  N/A |\n",
            "+-------------------------------+----------------------+----------------------+\n",
            "                                                                               \n",
            "+-----------------------------------------------------------------------------+\n",
            "| Processes:                                                                  |\n",
            "|  GPU   GI   CI        PID   Type   Process name                  GPU Memory |\n",
            "|        ID   ID                                                   Usage      |\n",
            "|=============================================================================|\n",
            "|  No running processes found                                                 |\n",
            "+-----------------------------------------------------------------------------+\n"
          ]
        }
      ]
    },
    {
      "cell_type": "code",
      "source": [
        "from psutil import virtual_memory\n",
        "ram_gb = virtual_memory().total / 1e9\n",
        "print('Your runtime has {:.1f} gigabytes of available RAM\\n'.format(ram_gb))\n",
        "\n",
        "if ram_gb < 20:\n",
        "  print('Not using a high-RAM runtime')\n",
        "else:\n",
        "  print('You are using a high-RAM runtime!')"
      ],
      "metadata": {
        "colab": {
          "base_uri": "https://localhost:8080/"
        },
        "id": "MVn5Yk6IkvG4",
        "outputId": "442a1ad6-68a8-49e5-ff8a-8faf7230d63c"
      },
      "execution_count": null,
      "outputs": [
        {
          "output_type": "stream",
          "name": "stdout",
          "text": [
            "Your runtime has 54.8 gigabytes of available RAM\n",
            "\n",
            "You are using a high-RAM runtime!\n"
          ]
        }
      ]
    },
    {
      "cell_type": "code",
      "source": [
        "import numpy as np\n",
        "import pandas as pd\n",
        "import matplotlib.pyplot as plt\n",
        "import seaborn as sns\n",
        "\n",
        "import warnings\n",
        "warnings.filterwarnings('ignore')\n",
        "\n",
        "from sklearn.preprocessing import MinMaxScaler\n",
        "from sklearn.preprocessing import StandardScaler\n",
        "\n",
        "import tensorflow as tf\n",
        "from keras.models import Sequential\n",
        "from keras.layers import Dense, LSTM, Dropout, SimpleRNN\n",
        "from keras.optimizers import RMSprop"
      ],
      "metadata": {
        "id": "fUGnGWJ9jAG0"
      },
      "execution_count": null,
      "outputs": []
    },
    {
      "cell_type": "code",
      "source": [
        "data = pd.read_csv(\"AMZN_2006-01-01_to_2018-01-01.csv\", parse_dates = ['Date'], index_col = 'Date')\n",
        "del data['Name']\n",
        "data = data.resample('B').ffill()\n",
        "data"
      ],
      "metadata": {
        "colab": {
          "base_uri": "https://localhost:8080/",
          "height": 455
        },
        "id": "Rrfp3a13i63M",
        "outputId": "02677783-79d6-4b18-d27f-711a709864a0"
      },
      "execution_count": null,
      "outputs": [
        {
          "output_type": "execute_result",
          "data": {
            "text/plain": [
              "               Open     High      Low    Close   Volume\n",
              "Date                                                   \n",
              "2006-01-03    47.47    47.85    46.25    47.58  7582127\n",
              "2006-01-04    47.48    47.73    46.69    47.25  7440914\n",
              "2006-01-05    47.16    48.20    47.11    47.65  5417258\n",
              "2006-01-06    47.97    48.58    47.32    47.87  6154285\n",
              "2006-01-09    46.55    47.10    46.40    47.08  8945056\n",
              "...             ...      ...      ...      ...      ...\n",
              "2017-12-25  1172.08  1174.62  1167.83  1168.36  1585054\n",
              "2017-12-26  1168.36  1178.32  1160.55  1176.76  2005187\n",
              "2017-12-27  1179.91  1187.29  1175.61  1182.26  1867208\n",
              "2017-12-28  1189.00  1190.10  1184.38  1186.10  1841676\n",
              "2017-12-29  1182.35  1184.00  1167.50  1169.47  2688391\n",
              "\n",
              "[3129 rows x 5 columns]"
            ],
            "text/html": [
              "\n",
              "  <div id=\"df-d65c2a83-6e5f-47cd-88f7-3f756a1c2b15\" class=\"colab-df-container\">\n",
              "    <div>\n",
              "<style scoped>\n",
              "    .dataframe tbody tr th:only-of-type {\n",
              "        vertical-align: middle;\n",
              "    }\n",
              "\n",
              "    .dataframe tbody tr th {\n",
              "        vertical-align: top;\n",
              "    }\n",
              "\n",
              "    .dataframe thead th {\n",
              "        text-align: right;\n",
              "    }\n",
              "</style>\n",
              "<table border=\"1\" class=\"dataframe\">\n",
              "  <thead>\n",
              "    <tr style=\"text-align: right;\">\n",
              "      <th></th>\n",
              "      <th>Open</th>\n",
              "      <th>High</th>\n",
              "      <th>Low</th>\n",
              "      <th>Close</th>\n",
              "      <th>Volume</th>\n",
              "    </tr>\n",
              "    <tr>\n",
              "      <th>Date</th>\n",
              "      <th></th>\n",
              "      <th></th>\n",
              "      <th></th>\n",
              "      <th></th>\n",
              "      <th></th>\n",
              "    </tr>\n",
              "  </thead>\n",
              "  <tbody>\n",
              "    <tr>\n",
              "      <th>2006-01-03</th>\n",
              "      <td>47.47</td>\n",
              "      <td>47.85</td>\n",
              "      <td>46.25</td>\n",
              "      <td>47.58</td>\n",
              "      <td>7582127</td>\n",
              "    </tr>\n",
              "    <tr>\n",
              "      <th>2006-01-04</th>\n",
              "      <td>47.48</td>\n",
              "      <td>47.73</td>\n",
              "      <td>46.69</td>\n",
              "      <td>47.25</td>\n",
              "      <td>7440914</td>\n",
              "    </tr>\n",
              "    <tr>\n",
              "      <th>2006-01-05</th>\n",
              "      <td>47.16</td>\n",
              "      <td>48.20</td>\n",
              "      <td>47.11</td>\n",
              "      <td>47.65</td>\n",
              "      <td>5417258</td>\n",
              "    </tr>\n",
              "    <tr>\n",
              "      <th>2006-01-06</th>\n",
              "      <td>47.97</td>\n",
              "      <td>48.58</td>\n",
              "      <td>47.32</td>\n",
              "      <td>47.87</td>\n",
              "      <td>6154285</td>\n",
              "    </tr>\n",
              "    <tr>\n",
              "      <th>2006-01-09</th>\n",
              "      <td>46.55</td>\n",
              "      <td>47.10</td>\n",
              "      <td>46.40</td>\n",
              "      <td>47.08</td>\n",
              "      <td>8945056</td>\n",
              "    </tr>\n",
              "    <tr>\n",
              "      <th>...</th>\n",
              "      <td>...</td>\n",
              "      <td>...</td>\n",
              "      <td>...</td>\n",
              "      <td>...</td>\n",
              "      <td>...</td>\n",
              "    </tr>\n",
              "    <tr>\n",
              "      <th>2017-12-25</th>\n",
              "      <td>1172.08</td>\n",
              "      <td>1174.62</td>\n",
              "      <td>1167.83</td>\n",
              "      <td>1168.36</td>\n",
              "      <td>1585054</td>\n",
              "    </tr>\n",
              "    <tr>\n",
              "      <th>2017-12-26</th>\n",
              "      <td>1168.36</td>\n",
              "      <td>1178.32</td>\n",
              "      <td>1160.55</td>\n",
              "      <td>1176.76</td>\n",
              "      <td>2005187</td>\n",
              "    </tr>\n",
              "    <tr>\n",
              "      <th>2017-12-27</th>\n",
              "      <td>1179.91</td>\n",
              "      <td>1187.29</td>\n",
              "      <td>1175.61</td>\n",
              "      <td>1182.26</td>\n",
              "      <td>1867208</td>\n",
              "    </tr>\n",
              "    <tr>\n",
              "      <th>2017-12-28</th>\n",
              "      <td>1189.00</td>\n",
              "      <td>1190.10</td>\n",
              "      <td>1184.38</td>\n",
              "      <td>1186.10</td>\n",
              "      <td>1841676</td>\n",
              "    </tr>\n",
              "    <tr>\n",
              "      <th>2017-12-29</th>\n",
              "      <td>1182.35</td>\n",
              "      <td>1184.00</td>\n",
              "      <td>1167.50</td>\n",
              "      <td>1169.47</td>\n",
              "      <td>2688391</td>\n",
              "    </tr>\n",
              "  </tbody>\n",
              "</table>\n",
              "<p>3129 rows × 5 columns</p>\n",
              "</div>\n",
              "    <div class=\"colab-df-buttons\">\n",
              "\n",
              "  <div class=\"colab-df-container\">\n",
              "    <button class=\"colab-df-convert\" onclick=\"convertToInteractive('df-d65c2a83-6e5f-47cd-88f7-3f756a1c2b15')\"\n",
              "            title=\"Convert this dataframe to an interactive table.\"\n",
              "            style=\"display:none;\">\n",
              "\n",
              "  <svg xmlns=\"http://www.w3.org/2000/svg\" height=\"24px\" viewBox=\"0 -960 960 960\">\n",
              "    <path d=\"M120-120v-720h720v720H120Zm60-500h600v-160H180v160Zm220 220h160v-160H400v160Zm0 220h160v-160H400v160ZM180-400h160v-160H180v160Zm440 0h160v-160H620v160ZM180-180h160v-160H180v160Zm440 0h160v-160H620v160Z\"/>\n",
              "  </svg>\n",
              "    </button>\n",
              "\n",
              "  <style>\n",
              "    .colab-df-container {\n",
              "      display:flex;\n",
              "      gap: 12px;\n",
              "    }\n",
              "\n",
              "    .colab-df-convert {\n",
              "      background-color: #E8F0FE;\n",
              "      border: none;\n",
              "      border-radius: 50%;\n",
              "      cursor: pointer;\n",
              "      display: none;\n",
              "      fill: #1967D2;\n",
              "      height: 32px;\n",
              "      padding: 0 0 0 0;\n",
              "      width: 32px;\n",
              "    }\n",
              "\n",
              "    .colab-df-convert:hover {\n",
              "      background-color: #E2EBFA;\n",
              "      box-shadow: 0px 1px 2px rgba(60, 64, 67, 0.3), 0px 1px 3px 1px rgba(60, 64, 67, 0.15);\n",
              "      fill: #174EA6;\n",
              "    }\n",
              "\n",
              "    .colab-df-buttons div {\n",
              "      margin-bottom: 4px;\n",
              "    }\n",
              "\n",
              "    [theme=dark] .colab-df-convert {\n",
              "      background-color: #3B4455;\n",
              "      fill: #D2E3FC;\n",
              "    }\n",
              "\n",
              "    [theme=dark] .colab-df-convert:hover {\n",
              "      background-color: #434B5C;\n",
              "      box-shadow: 0px 1px 3px 1px rgba(0, 0, 0, 0.15);\n",
              "      filter: drop-shadow(0px 1px 2px rgba(0, 0, 0, 0.3));\n",
              "      fill: #FFFFFF;\n",
              "    }\n",
              "  </style>\n",
              "\n",
              "    <script>\n",
              "      const buttonEl =\n",
              "        document.querySelector('#df-d65c2a83-6e5f-47cd-88f7-3f756a1c2b15 button.colab-df-convert');\n",
              "      buttonEl.style.display =\n",
              "        google.colab.kernel.accessAllowed ? 'block' : 'none';\n",
              "\n",
              "      async function convertToInteractive(key) {\n",
              "        const element = document.querySelector('#df-d65c2a83-6e5f-47cd-88f7-3f756a1c2b15');\n",
              "        const dataTable =\n",
              "          await google.colab.kernel.invokeFunction('convertToInteractive',\n",
              "                                                    [key], {});\n",
              "        if (!dataTable) return;\n",
              "\n",
              "        const docLinkHtml = 'Like what you see? Visit the ' +\n",
              "          '<a target=\"_blank\" href=https://colab.research.google.com/notebooks/data_table.ipynb>data table notebook</a>'\n",
              "          + ' to learn more about interactive tables.';\n",
              "        element.innerHTML = '';\n",
              "        dataTable['output_type'] = 'display_data';\n",
              "        await google.colab.output.renderOutput(dataTable, element);\n",
              "        const docLink = document.createElement('div');\n",
              "        docLink.innerHTML = docLinkHtml;\n",
              "        element.appendChild(docLink);\n",
              "      }\n",
              "    </script>\n",
              "  </div>\n",
              "\n",
              "\n",
              "<div id=\"df-e429eabf-2307-40d6-83c1-039b40382fe2\">\n",
              "  <button class=\"colab-df-quickchart\" onclick=\"quickchart('df-e429eabf-2307-40d6-83c1-039b40382fe2')\"\n",
              "            title=\"Suggest charts\"\n",
              "            style=\"display:none;\">\n",
              "\n",
              "<svg xmlns=\"http://www.w3.org/2000/svg\" height=\"24px\"viewBox=\"0 0 24 24\"\n",
              "     width=\"24px\">\n",
              "    <g>\n",
              "        <path d=\"M19 3H5c-1.1 0-2 .9-2 2v14c0 1.1.9 2 2 2h14c1.1 0 2-.9 2-2V5c0-1.1-.9-2-2-2zM9 17H7v-7h2v7zm4 0h-2V7h2v10zm4 0h-2v-4h2v4z\"/>\n",
              "    </g>\n",
              "</svg>\n",
              "  </button>\n",
              "\n",
              "<style>\n",
              "  .colab-df-quickchart {\n",
              "      --bg-color: #E8F0FE;\n",
              "      --fill-color: #1967D2;\n",
              "      --hover-bg-color: #E2EBFA;\n",
              "      --hover-fill-color: #174EA6;\n",
              "      --disabled-fill-color: #AAA;\n",
              "      --disabled-bg-color: #DDD;\n",
              "  }\n",
              "\n",
              "  [theme=dark] .colab-df-quickchart {\n",
              "      --bg-color: #3B4455;\n",
              "      --fill-color: #D2E3FC;\n",
              "      --hover-bg-color: #434B5C;\n",
              "      --hover-fill-color: #FFFFFF;\n",
              "      --disabled-bg-color: #3B4455;\n",
              "      --disabled-fill-color: #666;\n",
              "  }\n",
              "\n",
              "  .colab-df-quickchart {\n",
              "    background-color: var(--bg-color);\n",
              "    border: none;\n",
              "    border-radius: 50%;\n",
              "    cursor: pointer;\n",
              "    display: none;\n",
              "    fill: var(--fill-color);\n",
              "    height: 32px;\n",
              "    padding: 0;\n",
              "    width: 32px;\n",
              "  }\n",
              "\n",
              "  .colab-df-quickchart:hover {\n",
              "    background-color: var(--hover-bg-color);\n",
              "    box-shadow: 0 1px 2px rgba(60, 64, 67, 0.3), 0 1px 3px 1px rgba(60, 64, 67, 0.15);\n",
              "    fill: var(--button-hover-fill-color);\n",
              "  }\n",
              "\n",
              "  .colab-df-quickchart-complete:disabled,\n",
              "  .colab-df-quickchart-complete:disabled:hover {\n",
              "    background-color: var(--disabled-bg-color);\n",
              "    fill: var(--disabled-fill-color);\n",
              "    box-shadow: none;\n",
              "  }\n",
              "\n",
              "  .colab-df-spinner {\n",
              "    border: 2px solid var(--fill-color);\n",
              "    border-color: transparent;\n",
              "    border-bottom-color: var(--fill-color);\n",
              "    animation:\n",
              "      spin 1s steps(1) infinite;\n",
              "  }\n",
              "\n",
              "  @keyframes spin {\n",
              "    0% {\n",
              "      border-color: transparent;\n",
              "      border-bottom-color: var(--fill-color);\n",
              "      border-left-color: var(--fill-color);\n",
              "    }\n",
              "    20% {\n",
              "      border-color: transparent;\n",
              "      border-left-color: var(--fill-color);\n",
              "      border-top-color: var(--fill-color);\n",
              "    }\n",
              "    30% {\n",
              "      border-color: transparent;\n",
              "      border-left-color: var(--fill-color);\n",
              "      border-top-color: var(--fill-color);\n",
              "      border-right-color: var(--fill-color);\n",
              "    }\n",
              "    40% {\n",
              "      border-color: transparent;\n",
              "      border-right-color: var(--fill-color);\n",
              "      border-top-color: var(--fill-color);\n",
              "    }\n",
              "    60% {\n",
              "      border-color: transparent;\n",
              "      border-right-color: var(--fill-color);\n",
              "    }\n",
              "    80% {\n",
              "      border-color: transparent;\n",
              "      border-right-color: var(--fill-color);\n",
              "      border-bottom-color: var(--fill-color);\n",
              "    }\n",
              "    90% {\n",
              "      border-color: transparent;\n",
              "      border-bottom-color: var(--fill-color);\n",
              "    }\n",
              "  }\n",
              "</style>\n",
              "\n",
              "  <script>\n",
              "    async function quickchart(key) {\n",
              "      const quickchartButtonEl =\n",
              "        document.querySelector('#' + key + ' button');\n",
              "      quickchartButtonEl.disabled = true;  // To prevent multiple clicks.\n",
              "      quickchartButtonEl.classList.add('colab-df-spinner');\n",
              "      try {\n",
              "        const charts = await google.colab.kernel.invokeFunction(\n",
              "            'suggestCharts', [key], {});\n",
              "      } catch (error) {\n",
              "        console.error('Error during call to suggestCharts:', error);\n",
              "      }\n",
              "      quickchartButtonEl.classList.remove('colab-df-spinner');\n",
              "      quickchartButtonEl.classList.add('colab-df-quickchart-complete');\n",
              "    }\n",
              "    (() => {\n",
              "      let quickchartButtonEl =\n",
              "        document.querySelector('#df-e429eabf-2307-40d6-83c1-039b40382fe2 button');\n",
              "      quickchartButtonEl.style.display =\n",
              "        google.colab.kernel.accessAllowed ? 'block' : 'none';\n",
              "    })();\n",
              "  </script>\n",
              "</div>\n",
              "    </div>\n",
              "  </div>\n"
            ]
          },
          "metadata": {},
          "execution_count": 5
        }
      ]
    },
    {
      "cell_type": "code",
      "source": [
        "SEED = 1420\n",
        "np.random.seed(SEED)\n",
        "tf.random.set_seed(SEED)"
      ],
      "metadata": {
        "id": "4YzWcrLajg3l"
      },
      "execution_count": null,
      "outputs": []
    },
    {
      "cell_type": "code",
      "source": [
        "def lstm_model(X, y, learn_rate, dropout):\n",
        "    model = Sequential()\n",
        "    model.add(LSTM(X.shape[1], return_sequences = False, input_shape=(X.shape[1:])))\n",
        "    model.add(Dense(X.shape[1]))\n",
        "    model.add(Dropout(dropout))\n",
        "    model.add(Dense(y.shape[1], activation='tanh'))\n",
        "    optimizer = RMSprop(learning_rate=learn_rate)\n",
        "    model.compile(loss='mean_squared_error', optimizer=optimizer)\n",
        "    model.summary()\n",
        "    return model\n",
        "\n",
        "\n",
        "def rnn_model(X, y, learn_rate, dropout):\n",
        "    model = Sequential()\n",
        "    model.add(SimpleRNN(units=X.shape[1], input_shape=(X.shape[1], X.shape[2]), return_sequences=False))\n",
        "    model.add(Dense(X.shape[1]))\n",
        "    model.add(Dropout(dropout))\n",
        "    model.add(Dense(y.shape[1], activation='tanh'))\n",
        "\n",
        "    optimizer = RMSprop(learning_rate=learn_rate)\n",
        "    model.compile(loss='mean_squared_error', optimizer=optimizer)\n",
        "\n",
        "    model.summary()\n",
        "    return model"
      ],
      "metadata": {
        "id": "OsCXLR5yjkC-"
      },
      "execution_count": null,
      "outputs": []
    },
    {
      "cell_type": "code",
      "source": [
        "def scale_data(data, index, scalertype):\n",
        "    if scalertype == \"minmax01\": #minmax(0,1)\n",
        "        scaler = MinMaxScaler(feature_range=(0, 1))\n",
        "        scaled_data = scaler.fit_transform(data)\n",
        "    elif scalertype == \"minmax-11\": # minmax(-1, 1)\n",
        "        scaler = MinMaxScaler(feature_range=(-1, 1))\n",
        "        scaled_data = scaler.fit_transform(data)\n",
        "    elif scalertype == \"standard\": #standardization\n",
        "        scaler = StandardScaler()\n",
        "        scaled_data = scaler.fit_transform(data)\n",
        "    scaled_data = pd.DataFrame({'Open': scaled_data[:, 0], 'High': scaled_data[:, 1], 'Low': scaled_data[:, 2], 'Close': scaled_data[:, 3]}, index=index)\n",
        "    return scaled_data\n",
        "\n",
        "\n",
        "def sequence_data(data_normal, window_size, target_length):\n",
        "    close = data_normal[\"Close\"].values\n",
        "    open = data_normal[\"Open\"].values\n",
        "    high = data_normal[\"High\"].values\n",
        "    low = data_normal[\"Low\"].values\n",
        "    X = []\n",
        "    y = []\n",
        "    pointer = 0\n",
        "    data_length = len(close)\n",
        "    while (pointer + window_size + target_length) <= data_length:\n",
        "        x_close = close[pointer : pointer + window_size].reshape(-1, 1)\n",
        "        x_open = open[pointer : pointer + window_size].reshape(-1, 1)\n",
        "        x_high = high[pointer : pointer + window_size].reshape(-1, 1)\n",
        "        x_low = low[pointer : pointer + window_size].reshape(-1, 1)\n",
        "        x_ = np.append(x_close, x_open, axis=1)\n",
        "        x_ = np.append(x_, x_high, axis=1)\n",
        "        x_ = np.append(x_, x_low, axis=1)\n",
        "        X.append(x_)\n",
        "        y.append(close[pointer + window_size : pointer + window_size + target_length])\n",
        "        pointer += 1\n",
        "    X = np.asarray(X)\n",
        "    y = np.asarray(y)\n",
        "    return X, y\n",
        "\n",
        "\n",
        "def split_data(X, y, split_rate=0.2):\n",
        "    split = int(len(X) * (1 - split_rate))\n",
        "    X_train = X[:split, :]\n",
        "    y_train = y[:split]\n",
        "    X_test = X[split:, :]\n",
        "    y_test = y[split:]\n",
        "    return X_train, y_train, X_test, y_test"
      ],
      "metadata": {
        "id": "oNiETJYFjwfW"
      },
      "execution_count": null,
      "outputs": []
    },
    {
      "cell_type": "code",
      "source": [
        "window_sizes = [100, 150, 250]\n",
        "dropouts = [0.0, 0.25, 0.4]\n",
        "learn_rates = [0.1, 0.01, 0.001]\n",
        "epochs = [500]\n",
        "batch_sizes = [32]\n",
        "scaling = [\"minmax01\"]\n",
        "\n",
        "# window_sizes = [100]\n",
        "# dropouts = [0.25, 0.5]\n",
        "# learn_rates = [0.01]\n",
        "# epochs = [100, 200, 500]\n",
        "# batch_sizes = [32, 64, 128]\n",
        "# scaling = [\"minmax01\", \"minmax-11\", \"standard\"]\n",
        "\n",
        "# window_sizes = [100]\n",
        "# dropouts = [0.25]\n",
        "# learn_rates = [0.001]\n",
        "# epochs = [500]\n",
        "# batch_sizes = [32]\n",
        "# scaling = [\"minmax01\"]\n",
        "\n",
        "results_list = []\n",
        "\n",
        "\n",
        "def best_model(data, window_sizes, learn_rates, dropouts, epochs, batch_size, scaling):\n",
        "    #our best model variables\n",
        "    best_model = None\n",
        "    lowest_test_error = 2.0\n",
        "    best_training_error =0.0\n",
        "    best_learn_rate = 0.0\n",
        "    best_dropout_rate = 0.0\n",
        "    best_epoch = 0\n",
        "    best_window_size = 0\n",
        "\n",
        "    counter = 1\n",
        "\n",
        "    for sc in scaling:\n",
        "        normalized_data = scale_data(data, data.index, sc)\n",
        "\n",
        "        for window_size in window_sizes:\n",
        "            print(\"\\nWindow size: {}\".format(window_size))\n",
        "            print('-'* 40)\n",
        "\n",
        "            # Prepare our sequence data\n",
        "            X, y = sequence_data(normalized_data, window_size, 1)\n",
        "            X_train, y_train, X_test, y_test = split_data(X, y, split_rate=0.2)\n",
        "\n",
        "            for rate in learn_rates:\n",
        "                print(\"\\n   Learning Rate: {}\".format(rate))\n",
        "                print('   *'* 30)\n",
        "                for dropout in dropouts:\n",
        "                    print(\"\\n      Dropout Rate: {}\".format(dropout))\n",
        "                    print('      ='* 20)\n",
        "                    for epoch in epochs:\n",
        "\n",
        "                        print(\"\\n         Epochs: {}\".format(epoch))\n",
        "                        print('         +'* 10)\n",
        "                        for batch_size in batch_sizes:\n",
        "                            with tf.device(\"/device:gpu:1\"):\n",
        "                                model = rnn_model(X_train, y_train, rate, dropout)\n",
        "                                model.fit(X_train, y_train, epochs=epoch, batch_size=batch_size, verbose=0)\n",
        "\n",
        "                                # Print out training and testing errors\n",
        "                                training_error = model.evaluate(X_train, y_train, verbose=0)\n",
        "                                testing_error = model.evaluate(X_test, y_test, verbose=0)\n",
        "                                msg = \" > Scaling: {} Window size: {} Learn rate: {:.4f} Dropout: {:.2f} Epoch: {} Batch size: {} Training error: {:.4f} Testing error: {:.4f}\"\n",
        "                                msg = msg.format(sc, window_size, rate, dropout, epoch, batch_size, training_error, testing_error)\n",
        "                                print(msg)\n",
        "\n",
        "                                # Store the results in a list\n",
        "                                result_dict = {\n",
        "                                    \"Scaling\": sc,\n",
        "                                    \"Window_Size\": window_size,\n",
        "                                    \"Learn_Rate\": rate,\n",
        "                                    \"Dropout\": dropout,\n",
        "                                    \"Epoch\": epoch,\n",
        "                                    \"Batch_Size\": batch_size,\n",
        "                                    \"Training_Error\": training_error,\n",
        "                                    \"Testing_Error\": testing_error\n",
        "                                }\n",
        "                                results_list.append(result_dict)\n",
        "\n",
        "                                #check if test error\n",
        "                                if lowest_test_error > testing_error:\n",
        "                                    best_model = model\n",
        "                                    lowest_test_error = testing_error\n",
        "                                    best_learn_rate = rate\n",
        "                                    best_dropout_rate = dropout\n",
        "                                    best_epoch = epoch\n",
        "                                    best_training_error = training_error\n",
        "                                    best_window_size = window_size\n",
        "\n",
        "                                #increase our print counter\n",
        "                                counter += 1\n",
        "    best_dict ={}\n",
        "    best_dict[\"model\"] = best_model\n",
        "    best_dict[\"test_error\"] =   \"{0:.4f}\".format(lowest_test_error)\n",
        "    best_dict[\"learn_rate\"] = best_learn_rate\n",
        "    best_dict[\"dropout\"] = best_dropout_rate\n",
        "    best_dict[\"epoch\"] = best_epoch\n",
        "    best_dict[\"train_error\"] =  \"{0:.4f}\".format(best_training_error)\n",
        "    best_dict[\"window_size\"] = best_window_size\n",
        "\n",
        "    return best_dict, results_list\n",
        "\n",
        "best_dict, results_list = best_model(data, window_sizes, learn_rates, dropouts, epochs, batch_sizes, scaling)\n",
        "# Create a Pandas DataFrame from the results list\n",
        "results_df = pd.DataFrame(results_list)\n",
        "results_df.to_csv(\"lstm_results\", index=False, encoding=\"latin1\")"
      ],
      "metadata": {
        "colab": {
          "base_uri": "https://localhost:8080/"
        },
        "id": "KgUueyHykF9Y",
        "outputId": "77db389b-12f3-4755-9bbd-238c9824453b"
      },
      "execution_count": null,
      "outputs": [
        {
          "output_type": "stream",
          "name": "stdout",
          "text": [
            "\n",
            "Window size: 100\n",
            "----------------------------------------\n",
            "\n",
            "   Learning Rate: 0.1\n",
            "   *   *   *   *   *   *   *   *   *   *   *   *   *   *   *   *   *   *   *   *   *   *   *   *   *   *   *   *   *   *\n",
            "\n",
            "      Dropout Rate: 0.0\n",
            "      =      =      =      =      =      =      =      =      =      =      =      =      =      =      =      =      =      =      =      =\n",
            "\n",
            "         Epochs: 500\n",
            "         +         +         +         +         +         +         +         +         +         +\n",
            "Model: \"sequential_1\"\n",
            "_________________________________________________________________\n",
            " Layer (type)                Output Shape              Param #   \n",
            "=================================================================\n",
            " simple_rnn_1 (SimpleRNN)    (None, 100)               10500     \n",
            "                                                                 \n",
            " dense (Dense)               (None, 100)               10100     \n",
            "                                                                 \n",
            " dropout (Dropout)           (None, 100)               0         \n",
            "                                                                 \n",
            " dense_1 (Dense)             (None, 1)                 101       \n",
            "                                                                 \n",
            "=================================================================\n",
            "Total params: 20701 (80.86 KB)\n",
            "Trainable params: 20701 (80.86 KB)\n",
            "Non-trainable params: 0 (0.00 Byte)\n",
            "_________________________________________________________________\n",
            " > Scaling: minmax01 Window size: 100 Learn rate: 0.1000 Dropout: 0.00 Epoch: 500 Batch size: 32 Training error: 0.7582 Testing error: 0.1364\n",
            "\n",
            "      Dropout Rate: 0.25\n",
            "      =      =      =      =      =      =      =      =      =      =      =      =      =      =      =      =      =      =      =      =\n",
            "\n",
            "         Epochs: 500\n",
            "         +         +         +         +         +         +         +         +         +         +\n",
            "Model: \"sequential_2\"\n",
            "_________________________________________________________________\n",
            " Layer (type)                Output Shape              Param #   \n",
            "=================================================================\n",
            " simple_rnn_2 (SimpleRNN)    (None, 100)               10500     \n",
            "                                                                 \n",
            " dense_2 (Dense)             (None, 100)               10100     \n",
            "                                                                 \n",
            " dropout_1 (Dropout)         (None, 100)               0         \n",
            "                                                                 \n",
            " dense_3 (Dense)             (None, 1)                 101       \n",
            "                                                                 \n",
            "=================================================================\n",
            "Total params: 20701 (80.86 KB)\n",
            "Trainable params: 20701 (80.86 KB)\n",
            "Non-trainable params: 0 (0.00 Byte)\n",
            "_________________________________________________________________\n",
            " > Scaling: minmax01 Window size: 100 Learn rate: 0.1000 Dropout: 0.25 Epoch: 500 Batch size: 32 Training error: 0.7582 Testing error: 0.1364\n",
            "\n",
            "      Dropout Rate: 0.4\n",
            "      =      =      =      =      =      =      =      =      =      =      =      =      =      =      =      =      =      =      =      =\n",
            "\n",
            "         Epochs: 500\n",
            "         +         +         +         +         +         +         +         +         +         +\n",
            "Model: \"sequential_3\"\n",
            "_________________________________________________________________\n",
            " Layer (type)                Output Shape              Param #   \n",
            "=================================================================\n",
            " simple_rnn_3 (SimpleRNN)    (None, 100)               10500     \n",
            "                                                                 \n",
            " dense_4 (Dense)             (None, 100)               10100     \n",
            "                                                                 \n",
            " dropout_2 (Dropout)         (None, 100)               0         \n",
            "                                                                 \n",
            " dense_5 (Dense)             (None, 1)                 101       \n",
            "                                                                 \n",
            "=================================================================\n",
            "Total params: 20701 (80.86 KB)\n",
            "Trainable params: 20701 (80.86 KB)\n",
            "Non-trainable params: 0 (0.00 Byte)\n",
            "_________________________________________________________________\n",
            " > Scaling: minmax01 Window size: 100 Learn rate: 0.1000 Dropout: 0.40 Epoch: 500 Batch size: 32 Training error: 0.7582 Testing error: 0.1688\n",
            "\n",
            "   Learning Rate: 0.01\n",
            "   *   *   *   *   *   *   *   *   *   *   *   *   *   *   *   *   *   *   *   *   *   *   *   *   *   *   *   *   *   *\n",
            "\n",
            "      Dropout Rate: 0.0\n",
            "      =      =      =      =      =      =      =      =      =      =      =      =      =      =      =      =      =      =      =      =\n",
            "\n",
            "         Epochs: 500\n",
            "         +         +         +         +         +         +         +         +         +         +\n",
            "Model: \"sequential_4\"\n",
            "_________________________________________________________________\n",
            " Layer (type)                Output Shape              Param #   \n",
            "=================================================================\n",
            " simple_rnn_4 (SimpleRNN)    (None, 100)               10500     \n",
            "                                                                 \n",
            " dense_6 (Dense)             (None, 100)               10100     \n",
            "                                                                 \n",
            " dropout_3 (Dropout)         (None, 100)               0         \n",
            "                                                                 \n",
            " dense_7 (Dense)             (None, 1)                 101       \n",
            "                                                                 \n",
            "=================================================================\n",
            "Total params: 20701 (80.86 KB)\n",
            "Trainable params: 20701 (80.86 KB)\n",
            "Non-trainable params: 0 (0.00 Byte)\n",
            "_________________________________________________________________\n",
            " > Scaling: minmax01 Window size: 100 Learn rate: 0.0100 Dropout: 0.00 Epoch: 500 Batch size: 32 Training error: 0.7582 Testing error: 0.1363\n",
            "\n",
            "      Dropout Rate: 0.25\n",
            "      =      =      =      =      =      =      =      =      =      =      =      =      =      =      =      =      =      =      =      =\n",
            "\n",
            "         Epochs: 500\n",
            "         +         +         +         +         +         +         +         +         +         +\n",
            "Model: \"sequential_5\"\n",
            "_________________________________________________________________\n",
            " Layer (type)                Output Shape              Param #   \n",
            "=================================================================\n",
            " simple_rnn_5 (SimpleRNN)    (None, 100)               10500     \n",
            "                                                                 \n",
            " dense_8 (Dense)             (None, 100)               10100     \n",
            "                                                                 \n",
            " dropout_4 (Dropout)         (None, 100)               0         \n",
            "                                                                 \n",
            " dense_9 (Dense)             (None, 1)                 101       \n",
            "                                                                 \n",
            "=================================================================\n",
            "Total params: 20701 (80.86 KB)\n",
            "Trainable params: 20701 (80.86 KB)\n",
            "Non-trainable params: 0 (0.00 Byte)\n",
            "_________________________________________________________________\n",
            " > Scaling: minmax01 Window size: 100 Learn rate: 0.0100 Dropout: 0.25 Epoch: 500 Batch size: 32 Training error: 0.7582 Testing error: 0.1364\n",
            "\n",
            "      Dropout Rate: 0.4\n",
            "      =      =      =      =      =      =      =      =      =      =      =      =      =      =      =      =      =      =      =      =\n",
            "\n",
            "         Epochs: 500\n",
            "         +         +         +         +         +         +         +         +         +         +\n",
            "Model: \"sequential_6\"\n",
            "_________________________________________________________________\n",
            " Layer (type)                Output Shape              Param #   \n",
            "=================================================================\n",
            " simple_rnn_6 (SimpleRNN)    (None, 100)               10500     \n",
            "                                                                 \n",
            " dense_10 (Dense)            (None, 100)               10100     \n",
            "                                                                 \n",
            " dropout_5 (Dropout)         (None, 100)               0         \n",
            "                                                                 \n",
            " dense_11 (Dense)            (None, 1)                 101       \n",
            "                                                                 \n",
            "=================================================================\n",
            "Total params: 20701 (80.86 KB)\n",
            "Trainable params: 20701 (80.86 KB)\n",
            "Non-trainable params: 0 (0.00 Byte)\n",
            "_________________________________________________________________\n",
            " > Scaling: minmax01 Window size: 100 Learn rate: 0.0100 Dropout: 0.40 Epoch: 500 Batch size: 32 Training error: 0.7582 Testing error: 0.1364\n",
            "\n",
            "   Learning Rate: 0.001\n",
            "   *   *   *   *   *   *   *   *   *   *   *   *   *   *   *   *   *   *   *   *   *   *   *   *   *   *   *   *   *   *\n",
            "\n",
            "      Dropout Rate: 0.0\n",
            "      =      =      =      =      =      =      =      =      =      =      =      =      =      =      =      =      =      =      =      =\n",
            "\n",
            "         Epochs: 500\n",
            "         +         +         +         +         +         +         +         +         +         +\n",
            "Model: \"sequential_7\"\n",
            "_________________________________________________________________\n",
            " Layer (type)                Output Shape              Param #   \n",
            "=================================================================\n",
            " simple_rnn_7 (SimpleRNN)    (None, 100)               10500     \n",
            "                                                                 \n",
            " dense_12 (Dense)            (None, 100)               10100     \n",
            "                                                                 \n",
            " dropout_6 (Dropout)         (None, 100)               0         \n",
            "                                                                 \n",
            " dense_13 (Dense)            (None, 1)                 101       \n",
            "                                                                 \n",
            "=================================================================\n",
            "Total params: 20701 (80.86 KB)\n",
            "Trainable params: 20701 (80.86 KB)\n",
            "Non-trainable params: 0 (0.00 Byte)\n",
            "_________________________________________________________________\n",
            " > Scaling: minmax01 Window size: 100 Learn rate: 0.0010 Dropout: 0.00 Epoch: 500 Batch size: 32 Training error: 0.0000 Testing error: 0.0091\n",
            "\n",
            "      Dropout Rate: 0.25\n",
            "      =      =      =      =      =      =      =      =      =      =      =      =      =      =      =      =      =      =      =      =\n",
            "\n",
            "         Epochs: 500\n",
            "         +         +         +         +         +         +         +         +         +         +\n",
            "Model: \"sequential_8\"\n",
            "_________________________________________________________________\n",
            " Layer (type)                Output Shape              Param #   \n",
            "=================================================================\n",
            " simple_rnn_8 (SimpleRNN)    (None, 100)               10500     \n",
            "                                                                 \n",
            " dense_14 (Dense)            (None, 100)               10100     \n",
            "                                                                 \n",
            " dropout_7 (Dropout)         (None, 100)               0         \n",
            "                                                                 \n",
            " dense_15 (Dense)            (None, 1)                 101       \n",
            "                                                                 \n",
            "=================================================================\n",
            "Total params: 20701 (80.86 KB)\n",
            "Trainable params: 20701 (80.86 KB)\n",
            "Non-trainable params: 0 (0.00 Byte)\n",
            "_________________________________________________________________\n",
            " > Scaling: minmax01 Window size: 100 Learn rate: 0.0010 Dropout: 0.25 Epoch: 500 Batch size: 32 Training error: 0.0001 Testing error: 0.0072\n",
            "\n",
            "      Dropout Rate: 0.4\n",
            "      =      =      =      =      =      =      =      =      =      =      =      =      =      =      =      =      =      =      =      =\n",
            "\n",
            "         Epochs: 500\n",
            "         +         +         +         +         +         +         +         +         +         +\n",
            "Model: \"sequential_9\"\n",
            "_________________________________________________________________\n",
            " Layer (type)                Output Shape              Param #   \n",
            "=================================================================\n",
            " simple_rnn_9 (SimpleRNN)    (None, 100)               10500     \n",
            "                                                                 \n",
            " dense_16 (Dense)            (None, 100)               10100     \n",
            "                                                                 \n",
            " dropout_8 (Dropout)         (None, 100)               0         \n",
            "                                                                 \n",
            " dense_17 (Dense)            (None, 1)                 101       \n",
            "                                                                 \n",
            "=================================================================\n",
            "Total params: 20701 (80.86 KB)\n",
            "Trainable params: 20701 (80.86 KB)\n",
            "Non-trainable params: 0 (0.00 Byte)\n",
            "_________________________________________________________________\n",
            " > Scaling: minmax01 Window size: 100 Learn rate: 0.0010 Dropout: 0.40 Epoch: 500 Batch size: 32 Training error: 0.0000 Testing error: 0.0076\n",
            "\n",
            "Window size: 150\n",
            "----------------------------------------\n",
            "\n",
            "   Learning Rate: 0.1\n",
            "   *   *   *   *   *   *   *   *   *   *   *   *   *   *   *   *   *   *   *   *   *   *   *   *   *   *   *   *   *   *\n",
            "\n",
            "      Dropout Rate: 0.0\n",
            "      =      =      =      =      =      =      =      =      =      =      =      =      =      =      =      =      =      =      =      =\n",
            "\n",
            "         Epochs: 500\n",
            "         +         +         +         +         +         +         +         +         +         +\n",
            "Model: \"sequential_10\"\n",
            "_________________________________________________________________\n",
            " Layer (type)                Output Shape              Param #   \n",
            "=================================================================\n",
            " simple_rnn_10 (SimpleRNN)   (None, 150)               23250     \n",
            "                                                                 \n",
            " dense_18 (Dense)            (None, 150)               22650     \n",
            "                                                                 \n",
            " dropout_9 (Dropout)         (None, 150)               0         \n",
            "                                                                 \n",
            " dense_19 (Dense)            (None, 1)                 151       \n",
            "                                                                 \n",
            "=================================================================\n",
            "Total params: 46051 (179.89 KB)\n",
            "Trainable params: 46051 (179.89 KB)\n",
            "Non-trainable params: 0 (0.00 Byte)\n",
            "_________________________________________________________________\n"
          ]
        }
      ]
    },
    {
      "cell_type": "code",
      "source": [
        "normalized_data = scale_data(data, data.index, \"minmax01\")\n",
        "X, y = sequence_data(normalized_data, 100, 1)\n",
        "X_train, y_train, X_test, y_test = split_data(X, y, split_rate=0.2)\n",
        "with tf.device(\"/device:gpu:1\"):\n",
        "    model = lstm_model(X_train, y_train, 0.001, 0.25)\n",
        "    model.fit(X_train, y_train, epochs=500, batch_size=32, verbose=0)\n",
        "    # Print out training and testing errors\n",
        "    # training_error = model.evaluate(X_train, y_train, verbose=0)\n",
        "    # testing_error = model.evaluate(X_test, y_test, verbose=0)\n",
        "    model.predict(X_train)"
      ],
      "metadata": {
        "id": "TAxpjLf3SkRk",
        "colab": {
          "base_uri": "https://localhost:8080/"
        },
        "outputId": "8063ad8c-6aba-4c15-fe4d-0a474133f60a"
      },
      "execution_count": null,
      "outputs": [
        {
          "output_type": "stream",
          "name": "stdout",
          "text": [
            "Model: \"sequential\"\n",
            "_________________________________________________________________\n",
            " Layer (type)                Output Shape              Param #   \n",
            "=================================================================\n",
            " lstm (LSTM)                 (None, 100)               42000     \n",
            "                                                                 \n",
            " dense (Dense)               (None, 100)               10100     \n",
            "                                                                 \n",
            " dropout (Dropout)           (None, 100)               0         \n",
            "                                                                 \n",
            " dense_1 (Dense)             (None, 1)                 101       \n",
            "                                                                 \n",
            "=================================================================\n",
            "Total params: 52201 (203.91 KB)\n",
            "Trainable params: 52201 (203.91 KB)\n",
            "Non-trainable params: 0 (0.00 Byte)\n",
            "_________________________________________________________________\n",
            "76/76 [==============================] - 1s 3ms/step\n"
          ]
        }
      ]
    },
    {
      "cell_type": "code",
      "source": [
        "h = model.predict(X_train)"
      ],
      "metadata": {
        "colab": {
          "base_uri": "https://localhost:8080/"
        },
        "id": "uZgRecaBFotx",
        "outputId": "da6b2251-1ca6-4812-e471-1b4422aafee1"
      },
      "execution_count": null,
      "outputs": [
        {
          "output_type": "stream",
          "name": "stdout",
          "text": [
            "76/76 [==============================] - 0s 3ms/step\n"
          ]
        }
      ]
    },
    {
      "cell_type": "code",
      "source": [
        "h.shape"
      ],
      "metadata": {
        "colab": {
          "base_uri": "https://localhost:8080/"
        },
        "id": "wLuA9zGfGaV3",
        "outputId": "37365305-5828-4445-c9d7-3a1362d652e3"
      },
      "execution_count": null,
      "outputs": [
        {
          "output_type": "execute_result",
          "data": {
            "text/plain": [
              "(2423, 1)"
            ]
          },
          "metadata": {},
          "execution_count": 13
        }
      ]
    },
    {
      "cell_type": "code",
      "source": [
        "j = model.predict(X_test)"
      ],
      "metadata": {
        "colab": {
          "base_uri": "https://localhost:8080/"
        },
        "id": "-JogpYX1HBZm",
        "outputId": "149d9c0d-251b-41d6-f288-6d57aa34db3a"
      },
      "execution_count": null,
      "outputs": [
        {
          "output_type": "stream",
          "name": "stdout",
          "text": [
            "19/19 [==============================] - 0s 3ms/step\n"
          ]
        }
      ]
    },
    {
      "cell_type": "code",
      "source": [
        "j.shape"
      ],
      "metadata": {
        "colab": {
          "base_uri": "https://localhost:8080/"
        },
        "id": "g2-xGIt3HHli",
        "outputId": "28b50b44-c283-4980-dbd6-fcbfc7cc9bcf"
      },
      "execution_count": null,
      "outputs": [
        {
          "output_type": "execute_result",
          "data": {
            "text/plain": [
              "(606, 1)"
            ]
          },
          "metadata": {},
          "execution_count": 21
        }
      ]
    },
    {
      "cell_type": "code",
      "source": [
        "scaler = MinMaxScaler(feature_range=(0, 1))\n",
        "scaled_data = scaler.fit_transform(data['Close'].values.reshape(-1, 1))\n",
        "scaled_data = pd.DataFrame({'Close': scaled_data[:, 0]}, index=data.index)\n",
        "plt.plot(scaled_data['Close'], color='k')"
      ],
      "metadata": {
        "colab": {
          "base_uri": "https://localhost:8080/",
          "height": 447
        },
        "id": "3_tJydlyHYE8",
        "outputId": "f346b001-53ae-4a8e-ecee-76925cab7498"
      },
      "execution_count": null,
      "outputs": [
        {
          "output_type": "execute_result",
          "data": {
            "text/plain": [
              "[<matplotlib.lines.Line2D at 0x7f9cbc2dbca0>]"
            ]
          },
          "metadata": {},
          "execution_count": 30
        },
        {
          "output_type": "display_data",
          "data": {
            "text/plain": [
              "<Figure size 640x480 with 1 Axes>"
            ],
            "image/png": "[encoded data removed]"
          },
          "metadata": {}
        }
      ]
    },
    {
      "cell_type": "code",
      "source": [
        "data_index_subset = data.index[100:]\n",
        "\n",
        "# Concatenate arrays h and j row-wise\n",
        "result_array = np.concatenate((h, j), axis=0)\n",
        "result_array = scaler.inverse_transform(result_array)\n",
        "# Create a DataFrame with the concatenated array and data_index_subset as index\n",
        "result_df = pd.DataFrame(result_array, index=data_index_subset, columns=['combined_column'])\n",
        "\n",
        "# Display the resulting DataFrame\n",
        "result_df.shape"
      ],
      "metadata": {
        "colab": {
          "base_uri": "https://localhost:8080/"
        },
        "id": "q33SrZn2JZjZ",
        "outputId": "c6f3bbc5-570c-41be-aa88-6238a39f4568"
      },
      "execution_count": null,
      "outputs": [
        {
          "output_type": "execute_result",
          "data": {
            "text/plain": [
              "(3029, 1)"
            ]
          },
          "metadata": {},
          "execution_count": 33
        }
      ]
    },
    {
      "cell_type": "code",
      "source": [
        "plt.plot(result_df, color = 'b')\n",
        "plt.plot(data['Close'], color='g')\n",
        "plt.xlabel('day')\n",
        "plt.ylabel('Closing price of stock')\n",
        "plt.title(\"LSTM Price prediction for Amazon\")\n",
        "plt.legend(['Actual','Prediction'],loc='center left', bbox_to_anchor=(1, 0.5))\n",
        "plt.show()"
      ],
      "metadata": {
        "colab": {
          "base_uri": "https://localhost:8080/",
          "height": 472
        },
        "id": "sM2Kg85HKINQ",
        "outputId": "994e06f2-7b90-4037-d150-77d24f74db86"
      },
      "execution_count": null,
      "outputs": [
        {
          "output_type": "display_data",
          "data": {
            "text/plain": [
              "<Figure size 640x480 with 1 Axes>"
            ],
            "image/png": "[encoded data removed]"
          },
          "metadata": {}
        }
      ]
    },
    {
      "cell_type": "code",
      "source": [
        "data['Close'].loc[\"2006-05-23\":,].shape  #head(100)"
      ],
      "metadata": {
        "colab": {
          "base_uri": "https://localhost:8080/"
        },
        "id": "BmGo37MhOTdM",
        "outputId": "7aa0cf2e-7d61-4b14-933c-e44e69260938"
      },
      "execution_count": null,
      "outputs": [
        {
          "output_type": "execute_result",
          "data": {
            "text/plain": [
              "(3029,)"
            ]
          },
          "metadata": {},
          "execution_count": 40
        }
      ]
    },
    {
      "cell_type": "code",
      "source": [
        "from sklearn.metrics import mean_absolute_error, mean_squared_error, r2_score, mean_absolute_percentage_error\n",
        "mae = mean_absolute_error(data['Close'].loc[\"2006-05-23\":,], result_df)\n",
        "mse = mean_squared_error(data['Close'].loc[\"2006-05-23\":,], result_df)\n",
        "rmse = np.sqrt(mse) # or mse**(0.5)\n",
        "r2 = r2_score(data['Close'].loc[\"2006-05-23\":,], result_df)\n",
        "mape = mean_absolute_percentage_error(data['Close'].loc[\"2006-05-23\":,], result_df)\n",
        "print(\"Results of sklearn.metrics:\")\n",
        "print(\"MAE:\",mae)\n",
        "print(\"MSE:\", mse)\n",
        "print(\"RMSE:\", rmse)\n",
        "print(\"R-Squared:\", r2)\n",
        "print(\"MAPE:\",mape)"
      ],
      "metadata": {
        "colab": {
          "base_uri": "https://localhost:8080/"
        },
        "id": "Uop15FrnNTex",
        "outputId": "10516144-ce31-470f-ad55-dcecd59528e5"
      },
      "execution_count": null,
      "outputs": [
        {
          "output_type": "stream",
          "name": "stdout",
          "text": [
            "Results of sklearn.metrics:\n",
            "MAE: 19.006173365112183\n",
            "MSE: 1416.6719287714548\n",
            "RMSE: 37.63870253836408\n",
            "R-Squared: 0.9819517864007813\n",
            "MAPE: 0.07194007293059526\n"
          ]
        }
      ]
    },
    {
      "cell_type": "markdown",
      "source": [
        "# RNN"
      ],
      "metadata": {
        "id": "3wApp6XTQqMV"
      }
    },
    {
      "cell_type": "code",
      "source": [
        "normalized_data = scale_data(data, data.index, \"minmax01\")\n",
        "X, y = sequence_data(normalized_data, 100, 1)\n",
        "X_train, y_train, X_test, y_test = split_data(X, y, split_rate=0.2)\n",
        "with tf.device(\"/device:gpu:1\"):\n",
        "    model = rnn_model(X_train, y_train, 0.001, 0.25)\n",
        "    model.fit(X_train, y_train, epochs=500, batch_size=32, verbose=0)"
      ],
      "metadata": {
        "colab": {
          "base_uri": "https://localhost:8080/"
        },
        "id": "1-3WWZvyQkJs",
        "outputId": "982604db-21c9-48ce-c62c-b0953407ba5c"
      },
      "execution_count": null,
      "outputs": [
        {
          "output_type": "stream",
          "name": "stdout",
          "text": [
            "Model: \"sequential_1\"\n",
            "_________________________________________________________________\n",
            " Layer (type)                Output Shape              Param #   \n",
            "=================================================================\n",
            " simple_rnn (SimpleRNN)      (None, 100)               10500     \n",
            "                                                                 \n",
            " dense_2 (Dense)             (None, 100)               10100     \n",
            "                                                                 \n",
            " dropout_1 (Dropout)         (None, 100)               0         \n",
            "                                                                 \n",
            " dense_3 (Dense)             (None, 1)                 101       \n",
            "                                                                 \n",
            "=================================================================\n",
            "Total params: 20701 (80.86 KB)\n",
            "Trainable params: 20701 (80.86 KB)\n",
            "Non-trainable params: 0 (0.00 Byte)\n",
            "_________________________________________________________________\n"
          ]
        }
      ]
    },
    {
      "cell_type": "code",
      "source": [
        "h = model.predict(X_train)\n",
        "j = model.predict(X_test)"
      ],
      "metadata": {
        "colab": {
          "base_uri": "https://localhost:8080/"
        },
        "id": "xYjRB89aQySW",
        "outputId": "61b2454b-679d-4bc5-801f-dff2f9a09def"
      },
      "execution_count": null,
      "outputs": [
        {
          "output_type": "stream",
          "name": "stdout",
          "text": [
            "76/76 [==============================] - 1s 8ms/step\n",
            "19/19 [==============================] - 0s 8ms/step\n"
          ]
        }
      ]
    },
    {
      "cell_type": "code",
      "source": [
        "scaler = MinMaxScaler(feature_range=(0, 1))\n",
        "scaled_data = scaler.fit_transform(data['Close'].values.reshape(-1, 1))\n",
        "scaled_data = pd.DataFrame({'Close': scaled_data[:, 0]}, index=data.index)\n",
        "plt.plot(scaled_data['Close'], color='k')"
      ],
      "metadata": {
        "colab": {
          "base_uri": "https://localhost:8080/",
          "height": 447
        },
        "id": "mC36BlS5Q_nN",
        "outputId": "d4f68f60-7979-4bd5-cec0-b2fcad9a57fa"
      },
      "execution_count": null,
      "outputs": [
        {
          "output_type": "execute_result",
          "data": {
            "text/plain": [
              "[<matplotlib.lines.Line2D at 0x7f9c3c124790>]"
            ]
          },
          "metadata": {},
          "execution_count": 45
        },
        {
          "output_type": "display_data",
          "data": {
            "text/plain": [
              "<Figure size 640x480 with 1 Axes>"
            ],
            "image/png": "[encoded data removed]"
          },
          "metadata": {}
        }
      ]
    },
    {
      "cell_type": "code",
      "source": [
        "data_index_subset = data.index[100:]\n",
        "\n",
        "# Concatenate arrays h and j row-wise\n",
        "result_array = np.concatenate((h, j), axis=0)\n",
        "result_array = scaler.inverse_transform(result_array)\n",
        "# Create a DataFrame with the concatenated array and data_index_subset as index\n",
        "result_df = pd.DataFrame(result_array, index=data_index_subset, columns=['combined_column'])\n",
        "\n",
        "# Display the resulting DataFrame\n",
        "result_df.shape"
      ],
      "metadata": {
        "colab": {
          "base_uri": "https://localhost:8080/"
        },
        "id": "jgDuYkpZRJlq",
        "outputId": "7bb8f660-328c-4a2a-81b5-cf4d3f36f360"
      },
      "execution_count": null,
      "outputs": [
        {
          "output_type": "execute_result",
          "data": {
            "text/plain": [
              "(3029, 1)"
            ]
          },
          "metadata": {},
          "execution_count": 46
        }
      ]
    },
    {
      "cell_type": "code",
      "source": [
        "plt.plot(result_df, color = 'b')\n",
        "plt.plot(data['Close'], color='g')\n",
        "plt.xlabel('day')\n",
        "plt.ylabel('Closing price of stock')\n",
        "plt.title(\"RNN Price prediction for Amazon\")\n",
        "plt.legend(['Actual','Prediction'],loc='center left', bbox_to_anchor=(1, 0.5))\n",
        "plt.show()"
      ],
      "metadata": {
        "colab": {
          "base_uri": "https://localhost:8080/",
          "height": 472
        },
        "id": "Y6Vmxv2cRQ3O",
        "outputId": "7b1af350-e612-4316-92ad-4470435f8546"
      },
      "execution_count": null,
      "outputs": [
        {
          "output_type": "display_data",
          "data": {
            "text/plain": [
              "<Figure size 640x480 with 1 Axes>"
            ],
            "image/png": "[encoded data removed]"
          },
          "metadata": {}
        }
      ]
    },
    {
      "cell_type": "code",
      "source": [
        "from sklearn.metrics import mean_absolute_error, mean_squared_error, r2_score, mean_absolute_percentage_error\n",
        "mae = mean_absolute_error(data['Close'].loc[\"2006-05-23\":,], result_df)\n",
        "mse = mean_squared_error(data['Close'].loc[\"2006-05-23\":,], result_df)\n",
        "rmse = np.sqrt(mse) # or mse**(0.5)\n",
        "r2 = r2_score(data['Close'].loc[\"2006-05-23\":,], result_df)\n",
        "mape = mean_absolute_percentage_error(data['Close'].loc[\"2006-05-23\":,], result_df)\n",
        "print(\"Results of sklearn.metrics:\")\n",
        "print(\"MAE:\",mae)\n",
        "print(\"MSE:\", mse)\n",
        "print(\"RMSE:\", rmse)\n",
        "print(\"R-Squared:\", r2)\n",
        "print(\"MAPE:\",mape)"
      ],
      "metadata": {
        "colab": {
          "base_uri": "https://localhost:8080/"
        },
        "id": "CxE6AuPIRW1D",
        "outputId": "16a5ab77-358b-491e-d530-7f3705f05428"
      },
      "execution_count": null,
      "outputs": [
        {
          "output_type": "stream",
          "name": "stdout",
          "text": [
            "Results of sklearn.metrics:\n",
            "MAE: 21.05806817010355\n",
            "MSE: 2045.9303722175453\n",
            "RMSE: 45.23196184356307\n",
            "R-Squared: 0.9739351167924014\n",
            "MAPE: 0.06219412446651943\n"
          ]
        }
      ]
    }
  ]
}